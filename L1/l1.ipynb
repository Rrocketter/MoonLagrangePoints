{
 "cells": [
  {
   "cell_type": "code",
   "execution_count": 1,
   "id": "initial_id",
   "metadata": {
    "collapsed": true,
    "ExecuteTime": {
     "end_time": "2023-11-29T18:06:58.208158Z",
     "start_time": "2023-11-29T18:06:58.205227Z"
    }
   },
   "outputs": [],
   "source": [
    "import math"
   ]
  },
  {
   "cell_type": "code",
   "execution_count": null,
   "outputs": [],
   "source": [
    "def lagrangeP1(m1, R, r):\n",
    "    d = (R - r)\n",
    "    d *= d\n",
    "    return m1 / d\n",
    "\n",
    "def lagrangeP2(m2, r):\n",
    "    r *= r\n",
    "    return m2 / r\n",
    "\n",
    "def lagrangeP3(m1, m2, R, r):\n",
    "    m = m1 + m2\n",
    "    rr = R - r\n",
    "    mm = m1 / m\n",
    "    \n",
    "    g = m\n",
    "    g /= (r**3)\n",
    "    \n",
    "    return mm * rr * g"
   ],
   "metadata": {
    "collapsed": false
   },
   "id": "b078e10fc9145b72"
  },
  {
   "cell_type": "code",
   "execution_count": null,
   "outputs": [],
   "source": [
    "# testing with real life values\n",
    "\n",
    "p1 = lagrangeP1()"
   ],
   "metadata": {
    "collapsed": false
   },
   "id": "196858474a2a8e33"
  }
 ],
 "metadata": {
  "kernelspec": {
   "display_name": "Python 3",
   "language": "python",
   "name": "python3"
  },
  "language_info": {
   "codemirror_mode": {
    "name": "ipython",
    "version": 2
   },
   "file_extension": ".py",
   "mimetype": "text/x-python",
   "name": "python",
   "nbconvert_exporter": "python",
   "pygments_lexer": "ipython2",
   "version": "2.7.6"
  }
 },
 "nbformat": 4,
 "nbformat_minor": 5
}
